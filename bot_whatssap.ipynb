{
 "cells": [
  {
   "cell_type": "markdown",
   "id": "fcfa09aa",
   "metadata": {},
   "source": [
    "# Importando Libs"
   ]
  },
  {
   "cell_type": "code",
   "execution_count": 10,
   "id": "9fa45379",
   "metadata": {},
   "outputs": [],
   "source": [
    "from webdriver_manager.chrome import ChromeDriverManager\n",
    "from selenium import webdriver\n",
    "from selenium.webdriver.common.by import By\n",
    "from selenium.webdriver.chrome.service import Service\n",
    "\n",
    "from selenium.webdriver.support.wait import WebDriverWait\n",
    "from selenium.webdriver.support import expected_conditions as EC\n"
   ]
  },
  {
   "cell_type": "code",
   "execution_count": 11,
   "id": "fc7a036a",
   "metadata": {},
   "outputs": [],
   "source": [
    "service = Service(ChromeDriverManager().install())\n",
    "\n",
    "driver = webdriver.Chrome(service=service)\n",
    "\n",
    "driver.get(\"https://web.whatsapp.com\")\n",
    "\n",
    "# time.sleep(10)\n",
    "\n",
    "# driver.quit()"
   ]
  },
  {
   "cell_type": "code",
   "execution_count": 12,
   "id": "e22a1107",
   "metadata": {},
   "outputs": [
    {
     "ename": "TimeoutException",
     "evalue": "Message: \nStacktrace:\n#0 0x5856637737da <unknown>\n#1 0x5856632182e0 <unknown>\n#2 0x585663269e00 <unknown>\n#3 0x585663269ff1 <unknown>\n#4 0x5856632b8324 <unknown>\n#5 0x58566328f8dd <unknown>\n#6 0x5856632b571c <unknown>\n#7 0x58566328f683 <unknown>\n#8 0x58566325bb5b <unknown>\n#9 0x58566325cf31 <unknown>\n#10 0x58566373872b <unknown>\n#11 0x58566373c534 <unknown>\n#12 0x58566371f229 <unknown>\n#13 0x58566373d0d8 <unknown>\n#14 0x58566370361f <unknown>\n#15 0x585663760dd8 <unknown>\n#16 0x585663760fb6 <unknown>\n#17 0x585663772af6 <unknown>\n#18 0x7c522cc9caa4 <unknown>\n#19 0x7c522cd29c3c <unknown>\n",
     "output_type": "error",
     "traceback": [
      "\u001b[31m---------------------------------------------------------------------------\u001b[39m",
      "\u001b[31mTimeoutException\u001b[39m                          Traceback (most recent call last)",
      "\u001b[36mCell\u001b[39m\u001b[36m \u001b[39m\u001b[32mIn[12]\u001b[39m\u001b[32m, line 3\u001b[39m\n\u001b[32m      1\u001b[39m wait = WebDriverWait(driver, timeout=\u001b[32m60\u001b[39m)\n\u001b[32m      2\u001b[39m \u001b[38;5;66;03m# side_bar = wait.until(EC.element_to_be_clickable((By.XPATH, '//*[@id=\"side\"]')))\u001b[39;00m\n\u001b[32m----> \u001b[39m\u001b[32m3\u001b[39m side_bar = \u001b[43mwait\u001b[49m\u001b[43m.\u001b[49m\u001b[43muntil\u001b[49m\u001b[43m(\u001b[49m\u001b[43mEC\u001b[49m\u001b[43m.\u001b[49m\u001b[43mpresence_of_element_located\u001b[49m\u001b[43m(\u001b[49m\u001b[43m(\u001b[49m\u001b[43mBy\u001b[49m\u001b[43m.\u001b[49m\u001b[43mXPATH\u001b[49m\u001b[43m,\u001b[49m\u001b[43m \u001b[49m\u001b[33;43m'\u001b[39;49m\u001b[33;43m//*[@id=\u001b[39;49m\u001b[33;43m\"\u001b[39;49m\u001b[33;43mside\u001b[39;49m\u001b[33;43m\"\u001b[39;49m\u001b[33;43m]\u001b[39;49m\u001b[33;43m'\u001b[39;49m\u001b[43m)\u001b[49m\u001b[43m)\u001b[49m\u001b[43m)\u001b[49m\n\u001b[32m      5\u001b[39m side_bar.click()\n\u001b[32m      7\u001b[39m \u001b[38;5;66;03m# time.sleep(10)\u001b[39;00m\n\u001b[32m      8\u001b[39m \n\u001b[32m      9\u001b[39m \u001b[38;5;66;03m# driver.quit()\u001b[39;00m\n",
      "\u001b[36mFile \u001b[39m\u001b[32m~/Documentos/GitHub/MPC-estudo/.venv/lib/python3.12/site-packages/selenium/webdriver/support/wait.py:138\u001b[39m, in \u001b[36mWebDriverWait.until\u001b[39m\u001b[34m(self, method, message)\u001b[39m\n\u001b[32m    136\u001b[39m         \u001b[38;5;28;01mbreak\u001b[39;00m\n\u001b[32m    137\u001b[39m     time.sleep(\u001b[38;5;28mself\u001b[39m._poll)\n\u001b[32m--> \u001b[39m\u001b[32m138\u001b[39m \u001b[38;5;28;01mraise\u001b[39;00m TimeoutException(message, screen, stacktrace)\n",
      "\u001b[31mTimeoutException\u001b[39m: Message: \nStacktrace:\n#0 0x5856637737da <unknown>\n#1 0x5856632182e0 <unknown>\n#2 0x585663269e00 <unknown>\n#3 0x585663269ff1 <unknown>\n#4 0x5856632b8324 <unknown>\n#5 0x58566328f8dd <unknown>\n#6 0x5856632b571c <unknown>\n#7 0x58566328f683 <unknown>\n#8 0x58566325bb5b <unknown>\n#9 0x58566325cf31 <unknown>\n#10 0x58566373872b <unknown>\n#11 0x58566373c534 <unknown>\n#12 0x58566371f229 <unknown>\n#13 0x58566373d0d8 <unknown>\n#14 0x58566370361f <unknown>\n#15 0x585663760dd8 <unknown>\n#16 0x585663760fb6 <unknown>\n#17 0x585663772af6 <unknown>\n#18 0x7c522cc9caa4 <unknown>\n#19 0x7c522cd29c3c <unknown>\n"
     ]
    }
   ],
   "source": [
    "wait = WebDriverWait(driver, timeout=60)\n",
    "# side_bar = wait.until(EC.element_to_be_clickable((By.XPATH, '//*[@id=\"side\"]')))\n",
    "side_bar = wait.until(EC.presence_of_element_located((By.XPATH, '//*[@id=\"side\"]')))\n",
    "\n",
    "side_bar.click()\n",
    "\n",
    "# time.sleep(10)\n",
    "\n",
    "# driver.quit()"
   ]
  }
 ],
 "metadata": {
  "kernelspec": {
   "display_name": ".venv",
   "language": "python",
   "name": "python3"
  },
  "language_info": {
   "codemirror_mode": {
    "name": "ipython",
    "version": 3
   },
   "file_extension": ".py",
   "mimetype": "text/x-python",
   "name": "python",
   "nbconvert_exporter": "python",
   "pygments_lexer": "ipython3",
   "version": "3.12.3"
  }
 },
 "nbformat": 4,
 "nbformat_minor": 5
}
